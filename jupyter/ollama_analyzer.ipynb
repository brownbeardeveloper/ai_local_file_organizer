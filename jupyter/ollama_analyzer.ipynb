{
 "cells": [
  {
   "cell_type": "code",
   "execution_count": 1,
   "id": "16dd4bbb",
   "metadata": {},
   "outputs": [],
   "source": [
    "import sys\n",
    "from typing import Dict, Any\n",
    "sys.path.append('..')\n",
    "from ollama_analyzer import OllamaAnalyzer"
   ]
  },
  {
   "cell_type": "code",
   "execution_count": 2,
   "id": "a69b34ab",
   "metadata": {},
   "outputs": [],
   "source": [
    "def ollama_analyzer_method(file: str, type: str) -> Dict[str, Any]:\n",
    "    analyzer = OllamaAnalyzer()  # Uses qwen3:4b by default\n",
    "    return analyzer.analyze_text(text_content=file, analysis_type=type)"
   ]
  },
  {
   "cell_type": "markdown",
   "id": "8cfdfa43",
   "metadata": {},
   "source": [
    "### Basic OllamaAnalyzer usage example\n",
    "This section demonstrates how to use the OllamaAnalyzer for basic document analysis with an LLM."
   ]
  },
  {
   "cell_type": "code",
   "execution_count": 3,
   "id": "fc375ca1",
   "metadata": {},
   "outputs": [
    {
     "name": "stdout",
     "output_type": "stream",
     "text": [
      "Using Ollama model: qwen3:4b\n",
      "{'content': 'manual'}\n"
     ]
    }
   ],
   "source": [
    "pdf_text = \"\"\"AnyPrompt  \n",
    "Engineering\n",
    "Author: Lee Boonstra\n",
    "Prompt Engineering\n",
    "September 20242Acknowledgements\n",
    "Reviewers and Contributors\n",
    "Michael Sherman\n",
    "Yuan Cao\n",
    "Erick\n",
    "\"\"\"\n",
    "\n",
    "\n",
    "try: \n",
    "    result = ollama_analyzer_method(pdf_text, \"document\")\n",
    "    print(result)\n",
    "\n",
    "except ValueError as e:\n",
    "    print(e)\n",
    "except RuntimeError as e:\n",
    "    print(e)"
   ]
  },
  {
   "cell_type": "code",
   "execution_count": 4,
   "id": "7669d721",
   "metadata": {},
   "outputs": [
    {
     "name": "stdout",
     "output_type": "stream",
     "text": [
      "Using Ollama model: qwen3:4b\n",
      "{'content': 'notes'}\n"
     ]
    }
   ],
   "source": [
    "pdf_text = \"\"\"# Dream - 2025-06-07\n",
    "\n",
    "Weird dream about trying to debug code underwater.\n",
    "Felt frustrated but somehow made it work.\n",
    "Note: maybe symbolic of current stress level?\n",
    "\"\"\"\n",
    "\n",
    "\n",
    "try: \n",
    "    result = ollama_analyzer_method(pdf_text, \"document\")\n",
    "    print(result)\n",
    "\n",
    "except ValueError as e:\n",
    "    print(e)\n",
    "except RuntimeError as e:\n",
    "    print(e)"
   ]
  },
  {
   "cell_type": "markdown",
   "id": "5238c0d7",
   "metadata": {},
   "source": [
    "### Invalid analyzer usage examples\n",
    "All examples below demonstrate invalid or error scenarios for the OllamaAnalyzer."
   ]
  },
  {
   "cell_type": "code",
   "execution_count": 5,
   "id": "aeca6f3f",
   "metadata": {},
   "outputs": [
    {
     "name": "stdout",
     "output_type": "stream",
     "text": [
      "Ollama model 'model' not found. Available: ['mistral:latest', 'qwen3:1.7b', 'qwen3:4b', 'qwen3:8b']\n"
     ]
    }
   ],
   "source": [
    "try: \n",
    "    analyzer = OllamaAnalyzer(\"model\")\n",
    "\n",
    "except ValueError as e:\n",
    "    print(e)\n",
    "except RuntimeError as e:\n",
    "    print(e)"
   ]
  }
 ],
 "metadata": {
  "kernelspec": {
   "display_name": "Python 3",
   "language": "python",
   "name": "python3"
  },
  "language_info": {
   "codemirror_mode": {
    "name": "ipython",
    "version": 3
   },
   "file_extension": ".py",
   "mimetype": "text/x-python",
   "name": "python",
   "nbconvert_exporter": "python",
   "pygments_lexer": "ipython3",
   "version": "3.12.5"
  }
 },
 "nbformat": 4,
 "nbformat_minor": 5
}
