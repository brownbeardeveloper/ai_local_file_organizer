{
 "cells": [
  {
   "cell_type": "code",
   "execution_count": 1,
   "id": "ee7925a1",
   "metadata": {},
   "outputs": [
    {
     "name": "stdout",
     "output_type": "stream",
     "text": [
      "MPS acceleration available\n"
     ]
    }
   ],
   "source": [
    "import sys\n",
    "import json\n",
    "from typing import Dict, Any\n",
    "sys.path.append('..')\n",
    "from analyzer import FileAnalyzer"
   ]
  },
  {
   "cell_type": "code",
   "execution_count": 2,
   "id": "7098b11b",
   "metadata": {},
   "outputs": [],
   "source": [
    "def file_analyzer_method(file_obj: Dict[str, Any]):\n",
    "    analyzer = FileAnalyzer(large_file_threshold_mb=100)\n",
    "    return analyzer.analyze(file_obj)"
   ]
  },
  {
   "cell_type": "markdown",
   "id": "ade8cd9d",
   "metadata": {},
   "source": [
    "### Basic file analysis example"
   ]
  },
  {
   "cell_type": "code",
   "execution_count": 3,
   "id": "d70acdfa",
   "metadata": {},
   "outputs": [
    {
     "name": "stdout",
     "output_type": "stream",
     "text": [
      "{\n",
      "  \"path\": \"/Users/hello/Documents/Junk/basic_root/images/suzuki.jpg\",\n",
      "  \"name\": \"suzuki.jpg\",\n",
      "  \"suffix\": \".jpg\",\n",
      "  \"category\": \"image\",\n",
      "  \"size\": 4339794,\n",
      "  \"modified\": \"2025-05-20 11:49:47\",\n",
      "  \"mime_type\": \"image/jpeg\",\n",
      "  \"content_analysis\": \"image_analyzed\",\n",
      "  \"ai_insights\": {\n",
      "    \"primary_object\": \"motorcycle\",\n",
      "    \"confidence\": \"92.0%\",\n",
      "    \"object_category\": \"detected_object\"\n",
      "  }\n",
      "}\n"
     ]
    }
   ],
   "source": [
    "obj = {\n",
    "    \"path\": \"/Users/hello/Documents/Junk/basic_root/images/suzuki.jpg\",\n",
    "    \"name\": \"suzuki.jpg\",\n",
    "    \"suffix\": \".jpg\",\n",
    "    \"category\": \"image\",\n",
    "    \"size\": 4339794,\n",
    "    \"modified\": \"2025-05-20 11:49:47\",\n",
    "    \"mime_type\": \"image/jpeg\"\n",
    "}\n",
    "\n",
    "try:\n",
    "    result = file_analyzer_method(file_obj=obj)\n",
    "    print(json.dumps(result, indent=2, default=str))\n",
    "    \n",
    "except TypeError as e:\n",
    "    print(e)\n",
    "\n",
    "except ValueError as e:\n",
    "    print(e)\n",
    "\n",
    "except FileNotFoundError as e:\n",
    "    print(e)\n",
    "\n",
    "except PermissionError as e:\n",
    "    print(e)\n",
    "\n",
    "except OSError as e:\n",
    "    print(e)\n",
    "\n",
    "except RuntimeError as e:\n",
    "    print(e)\n",
    "\n",
    "except UnicodeDecodeError as e:\n",
    "    print(e)\n",
    "\n",
    "except MemoryError as e:\n",
    "    print(e)\n",
    "\n",
    "except ConnectionError as e:\n",
    "    print(e)\n",
    "\n",
    "except TimeoutError as e:\n",
    "    print(e)"
   ]
  },
  {
   "cell_type": "markdown",
   "id": "eea8dc6b",
   "metadata": {},
   "source": [
    "### Preview extracted PDF text"
   ]
  },
  {
   "cell_type": "code",
   "execution_count": 4,
   "id": "78c8f4e9",
   "metadata": {},
   "outputs": [
    {
     "name": "stdout",
     "output_type": "stream",
     "text": [
      "Prompt  \n",
      "Engineering\n",
      "Author: Lee Boonstra\n",
      "Prompt Engineering\n",
      "September 20242Acknowledgements\n",
      "Reviewe\n"
     ]
    }
   ],
   "source": [
    "pdf_file = \"/Users/hello/Documents/Junk/basic_root/pdf files/example.pdf\"\n",
    "\n",
    "analyzer = FileAnalyzer()\n",
    "pdf_text = analyzer._extract_pdf_text(pdf_file)\n",
    "\n",
    "print(pdf_text[:100])"
   ]
  },
  {
   "cell_type": "markdown",
   "id": "cb73c5ce",
   "metadata": {},
   "source": [
    "### Invalid file analysis examples\n",
    "All analysis examples below demonstrate invalid or error scenarios."
   ]
  },
  {
   "cell_type": "code",
   "execution_count": 5,
   "id": "3019bbbf",
   "metadata": {},
   "outputs": [
    {
     "name": "stdout",
     "output_type": "stream",
     "text": [
      "large_file_threshold_mb must be between 1 and 300 MB\n"
     ]
    }
   ],
   "source": [
    "try:\n",
    "    analyzer = FileAnalyzer(large_file_threshold_mb=0)\n",
    "\n",
    "except TypeError as e:\n",
    "    print(e)\n",
    "\n",
    "except ValueError as e:\n",
    "    print(e)\n",
    "\n",
    "except FileNotFoundError as e:\n",
    "    print(e)\n",
    "\n",
    "except PermissionError as e:\n",
    "    print(e)\n",
    "\n",
    "except OSError as e:\n",
    "    print(e)\n",
    "\n",
    "except RuntimeError as e:\n",
    "    print(e)\n",
    "\n",
    "except UnicodeDecodeError as e:\n",
    "    print(e)\n",
    "\n",
    "except MemoryError as e:\n",
    "    print(e)\n",
    "\n",
    "except ConnectionError as e:\n",
    "    print(e)\n",
    "\n",
    "except TimeoutError as e:\n",
    "    print(e)"
   ]
  },
  {
   "cell_type": "code",
   "execution_count": 6,
   "id": "de012e22",
   "metadata": {},
   "outputs": [
    {
     "name": "stdout",
     "output_type": "stream",
     "text": [
      "{\n",
      "  \"path\": \"/iamhappy\",\n",
      "  \"name\": \"sunrise-in-small-town-in-lofoten.jpg\",\n",
      "  \"suffix\": \".jpg\",\n",
      "  \"category\": \"image\",\n",
      "  \"size\": 4339794,\n",
      "  \"modified\": \"2025-05-20 11:49:47\",\n",
      "  \"mime_type\": \"image/jpeg\",\n",
      "  \"content_analysis\": \"image_error: File not found: /iamhappy\",\n",
      "  \"ai_insights\": {}\n",
      "}\n"
     ]
    }
   ],
   "source": [
    "obj = {\n",
    "    \"path\": \"/iamhappy\",\n",
    "    \"name\": \"sunrise-in-small-town-in-lofoten.jpg\",\n",
    "    \"suffix\": \".jpg\",\n",
    "    \"category\": \"image\",\n",
    "    \"size\": 4339794,\n",
    "    \"modified\": \"2025-05-20 11:49:47\",\n",
    "    \"mime_type\": \"image/jpeg\"\n",
    "}\n",
    "\n",
    "try:\n",
    "    result = file_analyzer_method(file_obj=obj)\n",
    "    print(json.dumps(result, indent=2, default=str))\n",
    "    \n",
    "except TypeError as e:\n",
    "    print(e)\n",
    "\n",
    "except ValueError as e:\n",
    "    print(e)\n",
    "\n",
    "except FileNotFoundError as e:\n",
    "    print(e)\n",
    "\n",
    "except PermissionError as e:\n",
    "    print(e)\n",
    "\n",
    "except OSError as e:\n",
    "    print(e)\n",
    "\n",
    "except RuntimeError as e:\n",
    "    print(e)\n",
    "\n",
    "except UnicodeDecodeError as e:\n",
    "    print(e)\n",
    "\n",
    "except MemoryError as e:\n",
    "    print(e)\n",
    "\n",
    "except ConnectionError as e:\n",
    "    print(e)\n",
    "\n",
    "except TimeoutError as e:\n",
    "    print(e)"
   ]
  },
  {
   "cell_type": "code",
   "execution_count": 7,
   "id": "8df2aa3e",
   "metadata": {},
   "outputs": [
    {
     "name": "stdout",
     "output_type": "stream",
     "text": [
      "{\n",
      "  \"path\": \"/Users/hello/Documents/Junk/basic_root/images/sunrise-in-small-town-in-lofoten.jpg\",\n",
      "  \"name\": \"sunrise-in-small-town-in-lofoten.jpg\",\n",
      "  \"suffix\": \".jpg\",\n",
      "  \"category\": \"document\",\n",
      "  \"size\": 4339794,\n",
      "  \"modified\": \"2025-05-20 11:49:47\",\n",
      "  \"mime_type\": \"image/jpeg\",\n",
      "  \"content_analysis\": \"document_analyzed\",\n",
      "  \"ai_insights\": {\n",
      "    \"content\": \"unsupported_document_type\"\n",
      "  }\n",
      "}\n"
     ]
    }
   ],
   "source": [
    "obj = {\n",
    "    \"path\": \"/Users/hello/Documents/Junk/basic_root/images/sunrise-in-small-town-in-lofoten.jpg\",\n",
    "    \"name\": \"sunrise-in-small-town-in-lofoten.jpg\",\n",
    "    \"suffix\": \".jpg\",\n",
    "    \"category\": \"document\",\n",
    "    \"size\": 4339794,\n",
    "    \"modified\": \"2025-05-20 11:49:47\",\n",
    "    \"mime_type\": \"image/jpeg\"\n",
    "}\n",
    "\n",
    "try:\n",
    "    result = file_analyzer_method(file_obj=obj)\n",
    "    print(json.dumps(result, indent=2, default=str))\n",
    "    \n",
    "except TypeError as e:\n",
    "    print(e)\n",
    "\n",
    "except ValueError as e:\n",
    "    print(e)\n",
    "\n",
    "except FileNotFoundError as e:\n",
    "    print(e)\n",
    "\n",
    "except PermissionError as e:\n",
    "    print(e)\n",
    "\n",
    "except OSError as e:\n",
    "    print(e)\n",
    "\n",
    "except RuntimeError as e:\n",
    "    print(e)\n",
    "\n",
    "except UnicodeDecodeError as e:\n",
    "    print(e)\n",
    "\n",
    "except MemoryError as e:\n",
    "    print(e)\n",
    "\n",
    "except ConnectionError as e:\n",
    "    print(e)\n",
    "\n",
    "except TimeoutError as e:\n",
    "    print(e)"
   ]
  },
  {
   "cell_type": "code",
   "execution_count": 8,
   "id": "da626d39",
   "metadata": {},
   "outputs": [
    {
     "name": "stdout",
     "output_type": "stream",
     "text": [
      "{\n",
      "  \"path\": \"/Users/hello/Documents/Junk/basic_root/secret.jpg\",\n",
      "  \"name\": \"secret.jpg\",\n",
      "  \"suffix\": \".jpg\",\n",
      "  \"category\": \"image\",\n",
      "  \"size\": 0,\n",
      "  \"modified\": \"2025-06-07 12:58:01\",\n",
      "  \"mime_type\": \"image/jpeg\",\n",
      "  \"content_analysis\": \"image_error: I/O error while opening image: [Errno 13] Permission denied: '/Users/hello/Documents/Junk/basic_root/secret.jpg'\",\n",
      "  \"ai_insights\": {}\n",
      "}\n"
     ]
    }
   ],
   "source": [
    "secret_file = {\n",
    "    \"path\": \"/Users/hello/Documents/Junk/basic_root/secret.jpg\",\n",
    "    \"name\": \"secret.jpg\",\n",
    "    \"suffix\": \".jpg\",\n",
    "    \"category\": \"image\",\n",
    "    \"size\": 0,\n",
    "    \"modified\": \"2025-06-07 12:58:01\",\n",
    "    \"mime_type\": \"image/jpeg\"\n",
    "}\n",
    "\n",
    "try:\n",
    "    result = file_analyzer_method(file_obj=secret_file)\n",
    "    print(json.dumps(result, indent=2, default=str))\n",
    "    \n",
    "except TypeError as e:\n",
    "    print(e)\n",
    "\n",
    "except ValueError as e:\n",
    "    print(e)\n",
    "\n",
    "except FileNotFoundError as e:\n",
    "    print(e)\n",
    "\n",
    "except PermissionError as e:\n",
    "    print(e)\n",
    "\n",
    "except OSError as e:\n",
    "    print(e)\n",
    "\n",
    "except RuntimeError as e:\n",
    "    print(e)\n",
    "\n",
    "except UnicodeDecodeError as e:\n",
    "    print(e)\n",
    "\n",
    "except MemoryError as e:\n",
    "    print(e)\n",
    "\n",
    "except ConnectionError as e:\n",
    "    print(e)\n",
    "\n",
    "except TimeoutError as e:\n",
    "    print(e)"
   ]
  }
 ],
 "metadata": {
  "kernelspec": {
   "display_name": "Python 3",
   "language": "python",
   "name": "python3"
  },
  "language_info": {
   "codemirror_mode": {
    "name": "ipython",
    "version": 3
   },
   "file_extension": ".py",
   "mimetype": "text/x-python",
   "name": "python",
   "nbconvert_exporter": "python",
   "pygments_lexer": "ipython3",
   "version": "3.12.5"
  }
 },
 "nbformat": 4,
 "nbformat_minor": 5
}
