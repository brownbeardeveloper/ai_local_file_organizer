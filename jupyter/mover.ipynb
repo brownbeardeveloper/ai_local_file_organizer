{
  "cells": [
    {
      "cell_type": "raw",
      "metadata": {
        "vscode": {
          "languageId": "raw"
        }
      },
      "source": [
        "# 📦 File Organization Notebook\n",
        "\n",
        "This notebook provides practical examples for copying and moving files using the `FileMover` class. It demonstrates:\n",
        "\n",
        "- **Safe file copying** (default) - preserves original files while creating organized copies\n",
        "- **Optional file moving** - for when you want to relocate files permanently\n",
        "- How to specify a root directory for organizing files into a structured hierarchy\n",
        "- How to organize files based on AI-generated recommendations with category validation\n",
        "- How to handle file conflicts with automatic sequential numbering\n",
        "- How to safely copy/move files with hash verification for integrity checking\n",
        "- How to create the required directory structure automatically in a specified location\n",
        "- How to handle invalid categories and display appropriate error messages\n",
        "\n",
        "> **Copy Mode (Default)**: Files are copied to organized locations, preserving originals as backup\n",
        "> **Move Mode**: Files are moved permanently - use with caution\n",
        "\n",
        "> Use this notebook to understand and test file organization behaviors, ensuring safe and organized file management with proper validation and flexible directory targeting.\n"
      ]
    },
    {
      "cell_type": "code",
      "execution_count": 1,
      "metadata": {},
      "outputs": [],
      "source": [
        "import os\n",
        "import sys\n",
        "from pathlib import Path\n",
        "sys.path.append('..')\n",
        "from mover import FileMover"
      ]
    },
    {
      "cell_type": "code",
      "execution_count": 2,
      "metadata": {},
      "outputs": [],
      "source": [
        "# Configuration - Root directories and test file paths\n",
        "ROOT_DIR = \"/Users/hello/Documents/dev_github/ai_file_organization\"\n",
        "ORGANIZED_ROOT = f\"{ROOT_DIR}/organized_files\"\n",
        "UNORGANIZED_ROOT = f\"{ROOT_DIR}/unorganized_files\" "
      ]
    },
    {
      "cell_type": "raw",
      "metadata": {
        "vscode": {
          "languageId": "raw"
        }
      },
      "source": [
        "### Copy vs Move Mode Demonstration\n",
        "\n",
        "The FileMover class now supports two operation modes:\n",
        "\n",
        "**Copy Mode (Default)**: `FileMover(copy_mode=True)`\n",
        "- Files are copied to organized locations\n",
        "- Original files remain untouched\n",
        "- Safe and reversible\n",
        "- Perfect for testing organization\n",
        "\n",
        "**Move Mode**: `FileMover(copy_mode=False)`\n",
        "- Files are moved permanently\n",
        "- Original files are deleted\n",
        "- Use with caution\n",
        "- Cannot be easily undone\n"
      ]
    },
    {
      "cell_type": "code",
      "execution_count": 3,
      "metadata": {},
      "outputs": [
        {
          "name": "stdout",
          "output_type": "stream",
          "text": [
            "Copy mode mover created - files will be copied, preserving originals\n",
            "Move mode mover created - files will be moved permanently\n"
          ]
        }
      ],
      "source": [
        "# Example: Copy Mode (Default - Safe)\n",
        "mover_copy = FileMover(root_dir=ORGANIZED_ROOT, copy_mode=True)\n",
        "print(\"Copy mode mover created - files will be copied, preserving originals\")\n",
        "\n",
        "# Example: Move Mode (Use with caution)\n",
        "mover_move = FileMover(root_dir=ORGANIZED_ROOT, copy_mode=False)\n",
        "print(\"Move mode mover created - files will be moved permanently\")"
      ]
    },
    {
      "cell_type": "raw",
      "metadata": {
        "vscode": {
          "languageId": "raw"
        }
      },
      "source": [
        "### Directory Structure Creation with Root Directory\n",
        "\n",
        "This section demonstrates how FileMover creates the organized directory structure in a specified root directory.\n"
      ]
    },
    {
      "cell_type": "code",
      "execution_count": 4,
      "metadata": {},
      "outputs": [
        {
          "name": "stdout",
          "output_type": "stream",
          "text": [
            "📁 documents/\n",
            "  └── pdf/\n",
            "  └── word/\n",
            "  └── excel/\n",
            "📁 finance/\n",
            "  └── invoices/\n",
            "  └── receipts/\n",
            "📁 work/\n",
            "  └── projects/\n",
            "  └── other/\n",
            "📁 studies/\n",
            "  └── notes/\n",
            "  └── assignments/\n",
            "📁 health/\n",
            "  └── training/\n",
            "  └── insurance/\n",
            "📁 photos/\n",
            "  └── camera/\n",
            "  └── phone/\n",
            "  └── screenshots/\n",
            "📁 software/\n",
            "  └── installers/\n",
            "  └── configs/\n",
            "📁 archives/\n",
            "  └── zip/\n",
            "  └── rar/\n",
            "📁 hidden/\n",
            "📁 large/\n",
            "📁 misc/\n",
            "📁 dev/\n",
            "  └── python/\n",
            "  └── javascript/\n",
            "  └── java/\n",
            "  └── other/\n"
          ]
        }
      ],
      "source": [
        "try:\n",
        "    for category, subcategories in mover_copy.sub_dirs_map.items():\n",
        "        print(f\"📁 {category}/\")\n",
        "        for subcategory in subcategories:\n",
        "            print(f\"  └── {subcategory}/\")\n",
        "\n",
        "except FileNotFoundError as e:\n",
        "    print(e)\n"
      ]
    },
    {
      "cell_type": "code",
      "execution_count": 5,
      "metadata": {},
      "outputs": [
        {
          "name": "stdout",
          "output_type": "stream",
          "text": [
            "File organized successfully!\n",
            "Source: /Users/hello/Documents/dev_github/ai_file_organization/unorganized_files/data.csv\n",
            "Actually organized to: /Users/hello/Documents/dev_github/ai_file_organization/organized_files/work/other/data12.csv\n",
            "Note: Filename changed from 'data.csv' to 'data12.csv' to avoid conflicts\n"
          ]
        }
      ],
      "source": [
        "old_path = f\"{UNORGANIZED_ROOT}/data.csv\"\n",
        "new_path = \"work/other/data.csv\"\n",
        "\n",
        "try:\n",
        "    final_destination = mover_copy.organize_file(old_path, new_path)\n",
        "\n",
        "    print(\"File organized successfully!\")\n",
        "    print(f\"Source: {old_path}\")\n",
        "    print(f\"Actually organized to: {final_destination}\")\n",
        "    \n",
        "    # Show if the filename was changed due to conflicts\n",
        "    suggested_name = Path(new_path).name\n",
        "    actual_name = Path(final_destination).name\n",
        "    if suggested_name != actual_name:\n",
        "        print(f\"Note: Filename changed from '{suggested_name}' to '{actual_name}' to avoid conflicts\")\n",
        "\n",
        "except FileNotFoundError as e:\n",
        "    print(e)"
      ]
    },
    {
      "cell_type": "markdown",
      "metadata": {},
      "source": [
        "### File Extension Validation\n",
        "\n",
        "The system prevents changing file extensions during organization to:\n",
        "- Preserve file type and format integrity\n",
        "- Maintain compatibility with applications\n",
        "- Prevent user confusion about file contents\n",
        "- Follow file organization best practices\n",
        "\n",
        "**Examples:**\n",
        "- OK `data.csv` → `work/other/data.csv` (same extension)\n",
        "- ERROR `data.csv` → `work/other/data.jpg` (extension changed)"
      ]
    },
    {
      "cell_type": "code",
      "execution_count": 6,
      "metadata": {},
      "outputs": [
        {
          "name": "stdout",
          "output_type": "stream",
          "text": [
            "Source file does not exist: /not-found.csv\n"
          ]
        }
      ],
      "source": [
        "old_path = \"/not-found.csv\"\n",
        "new_path = \"/data.csv\"\n",
        "\n",
        "try:\n",
        "    final_destination = mover_copy.organize_file(old_path, new_path)\n",
        "    \n",
        "except FileNotFoundError as e:\n",
        "    print(e)"
      ]
    },
    {
      "cell_type": "code",
      "execution_count": 7,
      "metadata": {},
      "outputs": [
        {
          "name": "stdout",
          "output_type": "stream",
          "text": [
            "Extension validation error: File extension cannot be changed during organization. Source: '.csv', Suggested: '.jpg'. File extensions must remain the same to preserve file type and compatibility.\n"
          ]
        }
      ],
      "source": [
        "old_path = f\"{UNORGANIZED_ROOT}/data.csv\"\n",
        "new_path = \"work/other/data.jpg\"  # Wrong extension!\n",
        "\n",
        "try:\n",
        "    final_destination = mover_copy.organize_file(old_path, new_path)\n",
        "    print(f\"File organized to: {final_destination}\")\n",
        "    \n",
        "except ValueError as e:\n",
        "    print(f\"Extension validation error: {e}\")\n",
        "except FileNotFoundError as e:\n",
        "    print(f\"File not found error: {e}\")"
      ]
    },
    {
      "cell_type": "code",
      "execution_count": 10,
      "metadata": {},
      "outputs": [
        {
          "name": "stdout",
          "output_type": "stream",
          "text": [
            "File extension cannot be changed during organization. Source: '', Suggested: '.txt'. File extensions must remain the same to preserve file type and compatibility.\n"
          ]
        }
      ],
      "source": [
        "# Test with files that have no extension\n",
        "test_file_no_ext = f\"{UNORGANIZED_ROOT}/README\"\n",
        "os.makedirs(UNORGANIZED_ROOT, exist_ok=True)\n",
        "\n",
        "with open(test_file_no_ext, 'w') as f:\n",
        "    f.write(\"This is a README file with no extension\")\n",
        "\n",
        "try:\n",
        "    # This should work - no extension to no extension\n",
        "    final_destination = mover_copy.organize_file(test_file_no_ext, \"work/other/README\")\n",
        "    \n",
        "    # This should fail - trying to add extension to extensionless file\n",
        "    final_destination = mover_copy.organize_file(test_file_no_ext, \"work/other/README.txt\")\n",
        "    \n",
        "except ValueError as e:\n",
        "    print(e)"
      ]
    }
  ],
  "metadata": {
    "kernelspec": {
      "display_name": "Python 3",
      "language": "python",
      "name": "python3"
    },
    "language_info": {
      "codemirror_mode": {
        "name": "ipython",
        "version": 3
      },
      "file_extension": ".py",
      "mimetype": "text/x-python",
      "name": "python",
      "nbconvert_exporter": "python",
      "pygments_lexer": "ipython3",
      "version": "3.12.5"
    }
  },
  "nbformat": 4,
  "nbformat_minor": 2
}
