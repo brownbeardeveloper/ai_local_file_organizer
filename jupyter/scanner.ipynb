{
 "cells": [
  {
   "cell_type": "markdown",
   "metadata": {},
   "source": [
    "# 📁 File Scanning Notebook\n",
    "\n",
    "This notebook provides practical examples for scanning files and directories using the `FileScanner` class. It demonstrates:\n",
    "\n",
    "- How to scan a basic directory and its subfolders recursively.\n",
    "- How to handle directories containing multiple projects, which are completely skipped and not scanned at all.\n",
    "- How to target and scan specific project subfolders for deeper inspection.\n",
    "- How to handle invalid paths and display appropriate error messages.\n",
    "\n",
    "> Use this notebook to understand and test file scanning behaviors in different directory contexts, ensuring both flexibility and predictable results.\n"
   ]
  },
  {
   "cell_type": "raw",
   "metadata": {
    "vscode": {
     "languageId": "raw"
    }
   },
   "source": [
    "%pip install --upgrade pip && pip install python-magic exifread pillow ultralytics ollama mutagen PyPDF2 python-docx"
   ]
  },
  {
   "cell_type": "code",
   "execution_count": 1,
   "metadata": {},
   "outputs": [],
   "source": [
    "import sys\n",
    "import json\n",
    "from typing import Dict, Any\n",
    "sys.path.append('..')\n",
    "from scanner import FileScanner"
   ]
  },
  {
   "cell_type": "code",
   "execution_count": 2,
   "metadata": {},
   "outputs": [],
   "source": [
    "ROOT_DIR = \"/Users/hello/Documents/Junk\"\n",
    "BASIC_DIR_PATH = f\"{ROOT_DIR}/basic_root\"\n",
    "PROJECTS_DIR_PATH = f\"{ROOT_DIR}/projects\"\n",
    "INSIDE_PROJECT_PATH = f\"{PROJECTS_DIR_PATH}/browser_agent\"\n",
    "INVALID_PATH =\"/iamhappy\""
   ]
  },
  {
   "cell_type": "code",
   "execution_count": 3,
   "metadata": {},
   "outputs": [],
   "source": [
    "def scanner_method(dir:str) -> Dict[str, Any]:\n",
    "    scanner = FileScanner(root_dir=dir)\n",
    "    return scanner.scan()"
   ]
  },
  {
   "cell_type": "markdown",
   "metadata": {},
   "source": [
    "### Basic File Scan"
   ]
  },
  {
   "cell_type": "code",
   "execution_count": 4,
   "metadata": {},
   "outputs": [
    {
     "name": "stdout",
     "output_type": "stream",
     "text": [
      "[\n",
      "  {\n",
      "    \"path\": \"/Users/hello/Documents/Junk/basic_root/images/sunrise-in-small-town-in-lofoten.jpg\",\n",
      "    \"name\": \"sunrise-in-small-town-in-lofoten.jpg\",\n",
      "    \"suffix\": \".jpg\",\n",
      "    \"category\": \"image\",\n",
      "    \"size\": 4339794,\n",
      "    \"modified\": \"2025-05-20 11:49:47\",\n",
      "    \"mime_type\": \"image/jpeg\"\n",
      "  },\n",
      "  {\n",
      "    \"path\": \"/Users/hello/Documents/Junk/basic_root/pdf files/example.pdf\",\n",
      "    \"name\": \"example.pdf\",\n",
      "    \"suffix\": \".pdf\",\n",
      "    \"category\": \"document\",\n",
      "    \"size\": 6817075,\n",
      "    \"modified\": \"2025-05-22 09:08:08\",\n",
      "    \"mime_type\": \"application/pdf\"\n",
      "  }\n",
      "]\n"
     ]
    }
   ],
   "source": [
    "try:\n",
    "    result = scanner_method(BASIC_DIR_PATH)\n",
    "    print(json.dumps(result[:2], indent=2, default=str))\n",
    "\n",
    "except FileNotFoundError as e:\n",
    "    print(e)"
   ]
  },
  {
   "cell_type": "markdown",
   "metadata": {},
   "source": [
    "### Scan Multiple Projects (no project files were harmed)"
   ]
  },
  {
   "cell_type": "code",
   "execution_count": 5,
   "metadata": {},
   "outputs": [
    {
     "name": "stdout",
     "output_type": "stream",
     "text": [
      "[]\n"
     ]
    }
   ],
   "source": [
    "\n",
    "try:\n",
    "    result = scanner_method(PROJECTS_DIR_PATH)\n",
    "    print(json.dumps(result, indent=2, default=str))\n",
    "\n",
    "except FileNotFoundError as e:\n",
    "    print(e)"
   ]
  },
  {
   "cell_type": "markdown",
   "metadata": {},
   "source": [
    "### Scan Project Files"
   ]
  },
  {
   "cell_type": "code",
   "execution_count": 6,
   "metadata": {},
   "outputs": [
    {
     "name": "stdout",
     "output_type": "stream",
     "text": [
      "[\n",
      "  {\n",
      "    \"path\": \"/Users/hello/Documents/Junk/projects/browser_agent/requirements.txt\",\n",
      "    \"name\": \"requirements.txt\",\n",
      "    \"suffix\": \".txt\",\n",
      "    \"category\": \"document\",\n",
      "    \"size\": 42,\n",
      "    \"modified\": \"2025-04-25 11:45:50\",\n",
      "    \"mime_type\": \"text/plain\"\n",
      "  },\n",
      "  {\n",
      "    \"path\": \"/Users/hello/Documents/Junk/projects/browser_agent/auto_signup.py\",\n",
      "    \"name\": \"auto_signup.py\",\n",
      "    \"suffix\": \".py\",\n",
      "    \"category\": \"document\",\n",
      "    \"size\": 8697,\n",
      "    \"modified\": \"2025-04-25 11:59:24\",\n",
      "    \"mime_type\": \"text/x-python\"\n",
      "  }\n",
      "]\n"
     ]
    }
   ],
   "source": [
    "try:\n",
    "    result = scanner_method(INSIDE_PROJECT_PATH)\n",
    "    print(json.dumps(result[:2], indent=2, default=str))\n",
    "\n",
    "except FileNotFoundError as e:\n",
    "    print(e)"
   ]
  },
  {
   "cell_type": "markdown",
   "metadata": {},
   "source": [
    "### Exception for Invalid Path"
   ]
  },
  {
   "cell_type": "code",
   "execution_count": 8,
   "metadata": {},
   "outputs": [
    {
     "name": "stdout",
     "output_type": "stream",
     "text": [
      "Path not found: /iamhappy\n"
     ]
    }
   ],
   "source": [
    "try:\n",
    "    result = scanner_method(INVALID_PATH)\n",
    "\n",
    "except FileNotFoundError as e:\n",
    "    print(e)"
   ]
  }
 ],
 "metadata": {
  "kernelspec": {
   "display_name": ".venv",
   "language": "python",
   "name": "python3"
  },
  "language_info": {
   "codemirror_mode": {
    "name": "ipython",
    "version": 3
   },
   "file_extension": ".py",
   "mimetype": "text/x-python",
   "name": "python",
   "nbconvert_exporter": "python",
   "pygments_lexer": "ipython3",
   "version": "3.12.5"
  }
 },
 "nbformat": 4,
 "nbformat_minor": 2
}
