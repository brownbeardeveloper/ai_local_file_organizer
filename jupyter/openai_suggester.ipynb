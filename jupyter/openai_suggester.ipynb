{
    "cells": [
        {
            "cell_type": "markdown",
            "id": "0e8b7560",
            "metadata": {},
            "source": [
                "# AI-Powered File Path Suggester Demo\n",
                "\n",
                "Explore how to leverage AI to automatically suggest organized file paths based on file content, metadata, and intelligent analysis.\n",
                "\n",
                "This demo uses the `PathSuggester` class from `suggester.py` to provide smart recommendations for structuring your files."
            ]
        },
        {
            "cell_type": "code",
            "execution_count": 1,
            "id": "b0b06cd2",
            "metadata": {},
            "outputs": [],
            "source": [
                "import sys\n",
                "sys.path.append('..')\n",
                "from openai_suggester import OpenAIPathPlanner"
            ]
        },
        {
            "cell_type": "code",
            "execution_count": 2,
            "id": "b1579368",
            "metadata": {},
            "outputs": [],
            "source": [
                "pathplanner = OpenAIPathPlanner()"
            ]
        },
        {
            "cell_type": "markdown",
            "id": "6a047059",
            "metadata": {},
            "source": [
                "## How PathSuggester Works\n",
                "\n",
                "The `PathSuggester` class uses file metadata and AI-generated insights to recommend the best way to organize your files. To use it, provide a `file_analysis` dictionary with keys such as:\n",
                "- `path`: Original file path\n",
                "- `name`: File name\n",
                "- `suffix`: File extension\n",
                "- `size`: File size in bytes\n",
                "- `modified`: Last modified date (YYYY-MM-DD HH:MM:SS)\n",
                "- `category`: File category (e.g., image, document, video)\n",
                "- `ai_insights`: AI-generated details (e.g., primary object, content type, confidence)\n",
                "\n",
                "Below are practical examples demonstrating how the suggester works."
            ]
        },
        {
            "cell_type": "code",
            "execution_count": 3,
            "id": "410f62b9",
            "metadata": {},
            "outputs": [
                {
                    "name": "stdout",
                    "output_type": "stream",
                    "text": [
                        "/downloads/document1.pdf : finance/invoices/2024/invoice.pdf\n",
                        "/downloads/untitled.docx : documents/word/2024/report.docx\n",
                        "/downloads/VID_20241025_143022.mp4 : work/projects/2024/person.mp4\n",
                        "/downloads/recording_001.mov : work/projects/2024/presentation.mp4\n",
                        "/downloads/audio_001.mp3 : work/projects/2024/music.mp3\n",
                        "/downloads/Voice 001.m4a : misc/2024/voicememo.mp3\n"
                    ]
                }
            ],
            "source": [
                "mixed_file_types = [\n",
                "    # Document files\n",
                "    {\n",
                "        \"path\": \"/downloads/document1.pdf\",\n",
                "        \"name\": \"document1.pdf\",\n",
                "        \"suffix\": \".pdf\", \n",
                "        \"size\": 850000,\n",
                "        \"modified\": \"2024-10-15 11:30:00\",\n",
                "        \"category\": \"document\",\n",
                "        \"ai_insights\": {\n",
                "            \"primary_object\": \"invoice\",\n",
                "            \"confidence\": \"89%\",\n",
                "            \"document_type\": \"financial\"\n",
                "        }\n",
                "    },\n",
                "    {\n",
                "        \"path\": \"/downloads/untitled.docx\",\n",
                "        \"name\": \"untitled.docx\",\n",
                "        \"suffix\": \".docx\",\n",
                "        \"size\": 245000,\n",
                "        \"modified\": \"2024-09-22 14:45:00\", \n",
                "        \"category\": \"document\",\n",
                "        \"ai_insights\": {\n",
                "            \"primary_object\": \"report\",\n",
                "            \"confidence\": \"92%\",\n",
                "            \"document_type\": \"work\"\n",
                "        }\n",
                "    },\n",
                "    # Video files\n",
                "    {\n",
                "        \"path\": \"/downloads/VID_20241025_143022.mp4\",\n",
                "        \"name\": \"VID_20241025_143022.mp4\",\n",
                "        \"suffix\": \".mp4\",\n",
                "        \"size\": 45600000,\n",
                "        \"modified\": \"2024-10-25 14:30:22\",\n",
                "        \"category\": \"video\",\n",
                "        \"ai_insights\": {\n",
                "            \"primary_object\": \"person\",\n",
                "            \"confidence\": \"91%\",\n",
                "            \"content_type\": \"family_video\"\n",
                "        }\n",
                "    },\n",
                "    {\n",
                "        \"path\": \"/downloads/recording_001.mov\",\n",
                "        \"name\": \"recording_001.mov\", \n",
                "        \"suffix\": \".mov\",\n",
                "        \"size\": 23400000,\n",
                "        \"modified\": \"2024-11-08 16:20:00\",\n",
                "        \"category\": \"video\", \n",
                "        \"ai_insights\": {\n",
                "            \"primary_object\": \"presentation\",\n",
                "            \"confidence\": \"85%\",\n",
                "            \"content_type\": \"work_recording\"\n",
                "        }\n",
                "    },\n",
                "    # Audio files\n",
                "    {\n",
                "        \"path\": \"/downloads/audio_001.mp3\",\n",
                "        \"name\": \"audio_001.mp3\",\n",
                "        \"suffix\": \".mp3\",\n",
                "        \"size\": 8900000,\n",
                "        \"modified\": \"2024-08-30 09:15:00\",\n",
                "        \"category\": \"audio\",\n",
                "        \"ai_insights\": {\n",
                "            \"primary_object\": \"music\",\n",
                "            \"confidence\": \"94%\",\n",
                "            \"genre\": \"jazz\"\n",
                "        }\n",
                "    },\n",
                "    {\n",
                "        \"path\": \"/downloads/Voice 001.m4a\", \n",
                "        \"name\": \"Voice 001.m4a\",\n",
                "        \"suffix\": \".m4a\",\n",
                "        \"size\": 3200000,\n",
                "        \"modified\": \"2024-11-01 10:45:00\",\n",
                "        \"category\": \"audio\",\n",
                "        \"ai_insights\": {\n",
                "            \"primary_object\": \"voice_memo\",\n",
                "            \"confidence\": \"87%\",\n",
                "            \"content_type\": \"meeting_notes\"\n",
                "        }\n",
                "    }\n",
                "]\n",
                "\n",
                "mixed_results = pathplanner.suggest_paths(mixed_file_types)\n",
                "\n",
                "for original, suggested in mixed_results.items():\n",
                "    print(f\"{original} : {suggested}\")"
            ]
        },
        {
            "cell_type": "code",
            "execution_count": 4,
            "id": "be34fb17",
            "metadata": {},
            "outputs": [
                {
                    "name": "stdout",
                    "output_type": "stream",
                    "text": [
                        "/downloads/IMG_1234.jpg : photos/camera/2024/person.jpg\n",
                        "/downloads/DSC_5678.jpg : photos/camera/2024/person2.jpg\n",
                        "/downloads/IMG_9876.jpg : photos/camera/2024/building.jpg\n",
                        "/downloads/photo_food.jpg : photos/camera/2024/food.jpg\n"
                    ]
                }
            ],
            "source": [
                "downloads_files = [\n",
                "    {\n",
                "        \"path\": \"/downloads/IMG_1234.jpg\",\n",
                "        \"name\": \"IMG_1234.jpg\", \n",
                "        \"suffix\": \".jpg\",\n",
                "        \"size\": 1500000,\n",
                "        \"modified\": \"2024-11-15 16:30:00\",\n",
                "        \"category\": \"image\",\n",
                "        \"ai_insights\": {\n",
                "            \"primary_object\": \"person\",\n",
                "            \"photo_date\": \"2024-11-15\",\n",
                "            \"confidence\": \"92%\"\n",
                "        }\n",
                "    },\n",
                "    {\n",
                "        \"path\": \"/downloads/DSC_5678.jpg\",\n",
                "        \"name\": \"DSC_5678.jpg\",\n",
                "        \"suffix\": \".jpg\", \n",
                "        \"size\": 2100000,\n",
                "        \"modified\": \"2024-11-10 14:20:00\",\n",
                "        \"category\": \"image\",\n",
                "        \"ai_insights\": {\n",
                "            \"primary_object\": \"person\",\n",
                "            \"photo_date\": \"2024-11-10\", \n",
                "            \"confidence\": \"88%\"\n",
                "        }\n",
                "    },\n",
                "    {\n",
                "        \"path\": \"/downloads/IMG_9876.jpg\",\n",
                "        \"name\": \"IMG_9876.jpg\",\n",
                "        \"suffix\": \".jpg\",\n",
                "        \"size\": 3200000,\n",
                "        \"modified\": \"2024-07-15 10:45:00\",\n",
                "        \"category\": \"image\",\n",
                "        \"ai_insights\": {\n",
                "            \"primary_object\": \"building\",\n",
                "            \"photo_date\": \"2024-07-15\",\n",
                "            \"confidence\": \"94%\"\n",
                "        }\n",
                "    },\n",
                "    {\n",
                "        \"path\": \"/downloads/photo_food.jpg\", \n",
                "        \"name\": \"photo_food.jpg\",\n",
                "        \"suffix\": \".jpg\",\n",
                "        \"size\": 1800000,\n",
                "        \"modified\": \"2024-06-20 19:30:00\",\n",
                "        \"category\": \"image\",\n",
                "        \"ai_insights\": {\n",
                "            \"primary_object\": \"food\",\n",
                "            \"photo_date\": \"2024-06-20\",\n",
                "            \"confidence\": \"91%\"\n",
                "        }\n",
                "    }\n",
                "]\n",
                "\n",
                "simple_results = pathplanner.suggest_paths(downloads_files)\n",
                "for original, suggested in simple_results.items():\n",
                "    print(f\"{original} : {suggested}\")"
            ]
        },
        {
            "cell_type": "markdown",
            "id": "51da7972",
            "metadata": {},
            "source": [
                "### Invalid Input Examples\n",
                "\n",
                "The following examples demonstrate how the path suggester handles invalid or malformed input data."
            ]
        },
        {
            "cell_type": "code",
            "execution_count": 5,
            "id": "4c005644",
            "metadata": {},
            "outputs": [
                {
                    "name": "stdout",
                    "output_type": "stream",
                    "text": [
                        "file_analyses must be a list, got str\n"
                    ]
                }
            ],
            "source": [
                "invalid_analyses = \"ERROR\"\n",
                "\n",
                "try:\n",
                "    invalid_results = pathplanner.suggest_paths(invalid_analyses)\n",
                "except TypeError as e:\n",
                "    print(e)"
            ]
        },
        {
            "cell_type": "code",
            "execution_count": 6,
            "id": "c10f38c8",
            "metadata": {},
            "outputs": [
                {
                    "name": "stdout",
                    "output_type": "stream",
                    "text": [
                        "file_analyses[0] missing required fields: ['ai_insights']. Available fields: ['path', 'name', 'category', 'size', 'modified']. Required fields: ['path', 'name', 'category', 'size', 'modified', 'ai_insights']\n"
                    ]
                }
            ],
            "source": [
                "invalid_analyses = {\n",
                "    \"path\": \"/fake/path/hello.txt\",\n",
                "    \"name\": \"hello.txt\",\n",
                "    \"category\": \"text\",\n",
                "    \"size\": 1234,\n",
                "    \"modified\": \"2025-01-01T12:00:00\",\n",
                "}\n",
                "\n",
                "file_analyses = [invalid_analyses]\n",
                "\n",
                "try:\n",
                "    invalid_results = pathplanner.suggest_paths(file_analyses)\n",
                "except RuntimeError as e:\n",
                "    print(e)"
            ]
        },
        {
            "cell_type": "code",
            "execution_count": 7,
            "id": "25506dab",
            "metadata": {},
            "outputs": [
                {
                    "name": "stdout",
                    "output_type": "stream",
                    "text": [
                        "file_analyses[0]['ai_insights'] must be a dict, got str\n"
                    ]
                }
            ],
            "source": [
                "invalid_analyses = {\n",
                "    \"path\": \"/fake/path/hello.txt\",\n",
                "    \"name\": \"hello.txt\",\n",
                "    \"category\": \"text\",\n",
                "    \"size\": \"1234\",\n",
                "    \"modified\": \"2025-01-01T12:00:00\",\n",
                "    \"ai_insights\": \"error\"\n",
                "}\n",
                "\n",
                "file_analyses = [invalid_analyses]\n",
                "\n",
                "try:\n",
                "    invalid_results = pathplanner.suggest_paths(file_analyses)\n",
                "except TypeError as e:\n",
                "    print(e)"
            ]
        },
        {
            "cell_type": "code",
            "execution_count": 8,
            "id": "64e9878e",
            "metadata": {},
            "outputs": [
                {
                    "name": "stdout",
                    "output_type": "stream",
                    "text": [
                        "{'/fake/path/hello.txt': 'misc/2025/unknownfile.txt'}\n"
                    ]
                }
            ],
            "source": [
                "invalid_analyses = {\n",
                "    \"path\": \"/fake/path/hello.txt\",\n",
                "    \"name\": \"hello.txt\",\n",
                "    \"category\": \"error\",\n",
                "    \"size\": \"1234\",\n",
                "    \"modified\": \"2025-01-01T12:00:00\",\n",
                "    \"ai_insights\": {\n",
                "            \"invalid_field\": \"not found\",\n",
                "        }\n",
                "}\n",
                "\n",
                "file_analyses = [invalid_analyses]\n",
                "\n",
                "try:\n",
                "    invalid_results = pathplanner.suggest_paths(file_analyses)\n",
                "    print(invalid_results)\n",
                "\n",
                "except RuntimeError as e:\n",
                "    print(e)"
            ]
        },
        {
            "cell_type": "code",
            "execution_count": 9,
            "id": "ecc95b2c",
            "metadata": {},
            "outputs": [
                {
                    "name": "stdout",
                    "output_type": "stream",
                    "text": [
                        "{'/fake/path/hello.txt': 'misc/2025/hello.txt'}\n"
                    ]
                }
            ],
            "source": [
                "invalid_analyses = {\n",
                "    \"path\": \"/fake/path/hello.txt\",\n",
                "    \"name\": \"hello.txt\",\n",
                "    \"category\": \"text\",\n",
                "    \"size\": \"1234\",\n",
                "    \"modified\": \"2025-01-01T12:00:00\",\n",
                "    \"ai_insights\": {\n",
                "            \"invalid_field\": \"error\",\n",
                "        }\n",
                "}\n",
                "\n",
                "file_analyses = [invalid_analyses]\n",
                "\n",
                "try:\n",
                "    invalid_results = pathplanner.suggest_paths(file_analyses)\n",
                "    print(invalid_results)\n",
                "\n",
                "except RuntimeError as e:\n",
                "    print(e)"
            ]
        }
    ],
    "metadata": {
        "kernelspec": {
            "display_name": ".venv",
            "language": "python",
            "name": "python3"
        },
        "language_info": {
            "codemirror_mode": {
                "name": "ipython",
                "version": 3
            },
            "file_extension": ".py",
            "mimetype": "text/x-python",
            "name": "python",
            "nbconvert_exporter": "python",
            "pygments_lexer": "ipython3",
            "version": "3.12.5"
        }
    },
    "nbformat": 4,
    "nbformat_minor": 5
}
