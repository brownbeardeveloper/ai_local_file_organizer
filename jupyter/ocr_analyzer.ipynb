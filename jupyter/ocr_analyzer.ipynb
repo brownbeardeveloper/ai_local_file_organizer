{
 "cells": [
  {
   "cell_type": "code",
   "execution_count": null,
   "id": "6ba06f6d",
   "metadata": {},
   "outputs": [],
   "source": [
    "import sys\n",
    "from typing import Dict, Any\n",
    "sys.path.append('..')\n",
    "from ocr_analyzer import OCRAnalyzer"
   ]
  },
  {
   "cell_type": "code",
   "execution_count": 2,
   "id": "7c9b54a1",
   "metadata": {},
   "outputs": [],
   "source": [
    "ROOT_DIR = \"/Users/hello/Documents/Junk/basic_root\"\n",
    "PDF_FILE_PATH = f\"{ROOT_DIR}/pdf files/example.pdf\"\n",
    "INVALID_PATH =\"/iamhappy\""
   ]
  },
  {
   "cell_type": "code",
   "execution_count": null,
   "id": "6d0bdbaa",
   "metadata": {},
   "outputs": [],
   "source": [
    "def ocr_method(path:str) -> Dict[str, Any]:\n",
    "    analyzer = OCRAnalyzer(confidence_threshold=0.8, max_pages_per_pdf=1)\n",
    "    return analyzer.extract_text_from_pdf(path)"
   ]
  },
  {
   "cell_type": "markdown",
   "id": "957097ac",
   "metadata": {},
   "source": [
    "### Basic OCR Analyzer for PDFs"
   ]
  },
  {
   "cell_type": "code",
   "execution_count": 4,
   "id": "236a5ed5",
   "metadata": {},
   "outputs": [
    {
     "name": "stdout",
     "output_type": "stream",
     "text": [
      "Extracted text: Prompt Engineering Author: Lee Boonstra Google\n",
      "Confidence: 99.5%\n",
      "Pages processed: 1\n",
      "Total pages: 65\n"
     ]
    }
   ],
   "source": [
    "try: \n",
    "    result = ocr_method(PDF_FILE_PATH)\n",
    "\n",
    "    print(f\"Extracted text: {result['text']}\")\n",
    "    print(f\"Confidence: {result['confidence']*100}%\")\n",
    "    print(f\"Pages processed: {result['pages_processed']}\")\n",
    "    print(f\"Total pages: {result['total_pages']}\")\n",
    "except FileNotFoundError as e:\n",
    "    print(e)\n",
    "except ValueError as e:\n",
    "    print(e)"
   ]
  },
  {
   "cell_type": "markdown",
   "id": "1b24394e",
   "metadata": {},
   "source": [
    "### Exception for Invalid OCR Analyzer Configuration"
   ]
  },
  {
   "cell_type": "code",
   "execution_count": 5,
   "id": "d64634c9",
   "metadata": {},
   "outputs": [
    {
     "name": "stdout",
     "output_type": "stream",
     "text": [
      "confidence_threshold must be between 0.5 and 1.0\n"
     ]
    }
   ],
   "source": [
    "try:\n",
    "    analyzer = OCRAnalyzer(confidence_threshold=2.0)\n",
    "except ValueError as e:\n",
    "    print(e)"
   ]
  },
  {
   "cell_type": "markdown",
   "id": "1179ba56",
   "metadata": {},
   "source": [
    "### Exception for Invalid Path"
   ]
  },
  {
   "cell_type": "code",
   "execution_count": 6,
   "id": "6d0837be",
   "metadata": {},
   "outputs": [
    {
     "name": "stdout",
     "output_type": "stream",
     "text": [
      "Path not found: /iamhappy\n"
     ]
    }
   ],
   "source": [
    "try: \n",
    "    result = ocr_method(INVALID_PATH)\n",
    "\n",
    "except FileNotFoundError as e:\n",
    "    print(e)\n",
    "except ValueError as e:\n",
    "    print(e)"
   ]
  }
 ],
 "metadata": {
  "kernelspec": {
   "display_name": "Python 3",
   "language": "python",
   "name": "python3"
  },
  "language_info": {
   "codemirror_mode": {
    "name": "ipython",
    "version": 3
   },
   "file_extension": ".py",
   "mimetype": "text/x-python",
   "name": "python",
   "nbconvert_exporter": "python",
   "pygments_lexer": "ipython3",
   "version": "3.12.5"
  }
 },
 "nbformat": 4,
 "nbformat_minor": 5
}
