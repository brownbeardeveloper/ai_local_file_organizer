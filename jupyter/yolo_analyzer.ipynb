{
 "cells": [
  {
   "cell_type": "code",
   "execution_count": 1,
   "id": "4fd91a92",
   "metadata": {},
   "outputs": [],
   "source": [
    "import sys\n",
    "import json\n",
    "from typing import Dict, Any\n",
    "sys.path.append('..')\n",
    "from yolo_analyzer import YOLOAnalyzer"
   ]
  },
  {
   "cell_type": "code",
   "execution_count": 2,
   "id": "ac4078ed",
   "metadata": {},
   "outputs": [],
   "source": [
    "def yolo_analyzer_method(image_path) -> Dict[str, Any]:\n",
    "    yolo_analyzer = YOLOAnalyzer()    \n",
    "    return yolo_analyzer.detect_objects(image_path=image_path)"
   ]
  },
  {
   "cell_type": "markdown",
   "id": "6391dbb0",
   "metadata": {},
   "source": [
    "### Basic YOLOAnalyzer usage\n",
    "This section demonstrates how to use the YOLOAnalyzer for object detection in a standard image file."
   ]
  },
  {
   "cell_type": "code",
   "execution_count": 3,
   "id": "3a49bada",
   "metadata": {},
   "outputs": [
    {
     "name": "stdout",
     "output_type": "stream",
     "text": [
      "{\n",
      "  \"primary_object\": \"motorcycle\",\n",
      "  \"confidence\": \"92.0%\",\n",
      "  \"object_category\": \"detected_object\"\n",
      "}\n"
     ]
    }
   ],
   "source": [
    "\n",
    "image_path = \"/Users/hello/Documents/Junk/basic_root/images/suzuki.jpg\"\n",
    "\n",
    "try:\n",
    "    result = yolo_analyzer_method(image_path)\n",
    "    print(json.dumps(result, indent=2, default=str))\n",
    "\n",
    "except FileNotFoundError as e:\n",
    "    print(e)\n",
    "\n",
    "except ValueError as e:\n",
    "    print(e)\n",
    "\n",
    "except OSError as e:\n",
    "    print(e)\n",
    "\n",
    "except RuntimeError as e:\n",
    "    print(e)"
   ]
  },
  {
   "cell_type": "markdown",
   "id": "82bb1f5a",
   "metadata": {},
   "source": [
    "### Invalid YOLOAnalyzer usage examples\n",
    "All examples below demonstrate invalid or error scenarios for the YOLOAnalyzer."
   ]
  },
  {
   "cell_type": "code",
   "execution_count": 4,
   "id": "43296932",
   "metadata": {},
   "outputs": [
    {
     "name": "stdout",
     "output_type": "stream",
     "text": [
      "Invalid image format: /Users/hello/Documents/Junk/projects/browser_agent/requirements.txt\n"
     ]
    }
   ],
   "source": [
    "invalid_path = \"/Users/hello/Documents/Junk/projects/browser_agent/requirements.txt\"\n",
    "\n",
    "try:\n",
    "    yolo_analyzer = YOLOAnalyzer()    \n",
    "    yolo_analyzer.convert_path_to_rgb(image_path=invalid_path)\n",
    "\n",
    "except FileNotFoundError as e:\n",
    "    print(e)\n",
    "\n",
    "except ValueError as e:\n",
    "    print(e)\n",
    "\n",
    "except OSError as e:\n",
    "    print(e)\n",
    "\n",
    "except RuntimeError as e:\n",
    "    print(e)"
   ]
  },
  {
   "cell_type": "code",
   "execution_count": 5,
   "id": "79e7833f",
   "metadata": {},
   "outputs": [
    {
     "name": "stdout",
     "output_type": "stream",
     "text": [
      "File not found: /iamhappy\n"
     ]
    }
   ],
   "source": [
    "invalid_path = \"/iamhappy\"\n",
    "\n",
    "try:\n",
    "    yolo_analyzer = YOLOAnalyzer()    \n",
    "    yolo_analyzer.convert_path_to_rgb(image_path=invalid_path)\n",
    "\n",
    "except FileNotFoundError as e:\n",
    "    print(e)\n",
    "\n",
    "except ValueError as e:\n",
    "    print(e)\n",
    "\n",
    "except OSError as e:\n",
    "    print(e)\n",
    "\n",
    "except RuntimeError as e:\n",
    "    print(e)"
   ]
  },
  {
   "cell_type": "code",
   "execution_count": 6,
   "id": "1cb3903e",
   "metadata": {},
   "outputs": [
    {
     "name": "stdout",
     "output_type": "stream",
     "text": [
      "I/O error while opening image: [Errno 13] Permission denied: '/Users/hello/Documents/Junk/basic_root/secret.jpg'\n"
     ]
    }
   ],
   "source": [
    "secret_path = \"/Users/hello/Documents/Junk/basic_root/secret.jpg\" # chmod 000\n",
    "\n",
    "try:\n",
    "    yolo_analyzer = YOLOAnalyzer()    \n",
    "    yolo_analyzer.convert_path_to_rgb(image_path=secret_path)\n",
    "\n",
    "except FileNotFoundError as e:\n",
    "    print(e)\n",
    "\n",
    "except ValueError as e:\n",
    "    print(e)\n",
    "\n",
    "except OSError as e:\n",
    "    print(e)\n",
    "\n",
    "except RuntimeError as e:\n",
    "    print(e)"
   ]
  },
  {
   "cell_type": "code",
   "execution_count": 7,
   "id": "48c2bc22",
   "metadata": {},
   "outputs": [
    {
     "name": "stdout",
     "output_type": "stream",
     "text": [
      "confidence_threshold must be between 0.15 and 1.0\n"
     ]
    }
   ],
   "source": [
    "image_path = \"/Users/hello/Documents/Junk/basic_root/images/suzuki.jpg\"\n",
    "\n",
    "try:\n",
    "    yolo_analyzer = YOLOAnalyzer(confidence_threshold=0)    \n",
    "    yolo_analyzer.convert_path_to_rgb(image_path=invalid_path)\n",
    "\n",
    "except FileNotFoundError as e:\n",
    "    print(e)\n",
    "\n",
    "except ValueError as e:\n",
    "    print(e)\n",
    "\n",
    "except OSError as e:\n",
    "    print(e)\n",
    "\n",
    "except RuntimeError as e:\n",
    "    print(e)"
   ]
  }
 ],
 "metadata": {
  "kernelspec": {
   "display_name": "Python 3",
   "language": "python",
   "name": "python3"
  },
  "language_info": {
   "codemirror_mode": {
    "name": "ipython",
    "version": 3
   },
   "file_extension": ".py",
   "mimetype": "text/x-python",
   "name": "python",
   "nbconvert_exporter": "python",
   "pygments_lexer": "ipython3",
   "version": "3.12.5"
  }
 },
 "nbformat": 4,
 "nbformat_minor": 5
}
